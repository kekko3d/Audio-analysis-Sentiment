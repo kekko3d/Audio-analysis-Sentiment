{
 "cells": [
  {
   "cell_type": "code",
   "execution_count": 1,
   "id": "85eeb2fc",
   "metadata": {},
   "outputs": [],
   "source": [
    "import os \n",
    "import numpy as np\n",
    "from scipy.io import wavfile\n",
    "import pandas as pd\n",
    "import csv\n",
    "from pandas import Series\n",
    "\n",
    "import matplotlib.pyplot as plt\n",
    "import librosa.display\n",
    "import soundfile\n",
    "import glob\n",
    "\n",
    "from sklearn.model_selection import train_test_split\n",
    "from sklearn.ensemble import RandomForestClassifier\n",
    "from sklearn.metrics import classification_report\n",
    "from sklearn.metrics import f1_score\n",
    "from sklearn.metrics import classification_report"
   ]
  },
  {
   "cell_type": "markdown",
   "id": "b92d3ad1",
   "metadata": {},
   "source": [
    "<h1>Data extraction</h1>"
   ]
  },
  {
   "cell_type": "markdown",
   "id": "1ebbe708",
   "metadata": {},
   "source": [
    "<h3>Audio files</h3>"
   ]
  },
  {
   "cell_type": "code",
   "execution_count": 2,
   "id": "ca2cadbe",
   "metadata": {},
   "outputs": [
    {
     "data": {
      "text/plain": [
       "['0.wav',\n",
       " '1.wav',\n",
       " '2.wav',\n",
       " '3.wav',\n",
       " '4.wav',\n",
       " '5.wav',\n",
       " '6.wav',\n",
       " '7.wav',\n",
       " '8.wav',\n",
       " '9.wav']"
      ]
     },
     "execution_count": 2,
     "metadata": {},
     "output_type": "execute_result"
    }
   ],
   "source": [
    "path = 'audio/'\n",
    "audio_files = os.listdir(path) # not ordered\n",
    "\n",
    "audio_id = sorted([int(af.split('.')[0]) for af in audio_files])\n",
    "audio_files = [str(i)+'.wav' for i in audio_id] # ordered\n",
    "audio_files[:10]"
   ]
  },
  {
   "cell_type": "markdown",
   "id": "239c347d",
   "metadata": {},
   "source": [
    "Separation **development-evaluation**"
   ]
  },
  {
   "cell_type": "code",
   "execution_count": 3,
   "id": "d72dc84c",
   "metadata": {},
   "outputs": [],
   "source": [
    "audio_dev = audio_files[:9597]\n",
    "audio_eval = audio_files[9597:]"
   ]
  },
  {
   "cell_type": "markdown",
   "id": "db5ae6c6",
   "metadata": {},
   "source": [
    "Audio extraction as **numpy array**"
   ]
  },
  {
   "cell_type": "code",
   "execution_count": 4,
   "id": "34c5377c",
   "metadata": {},
   "outputs": [
    {
     "data": {
      "text/plain": [
       "(9597,\n",
       " 17352,\n",
       " [array([ -46, -103,  -88, ...,    0,    0,    0], dtype=int16),\n",
       "  array([117, 301, 296, ...,  -2,  -1,   0], dtype=int16),\n",
       "  array([-1, -2, -2, ..., -1, -1,  0], dtype=int16),\n",
       "  array([-1, -1, -1, ...,  1,  0,  0], dtype=int16),\n",
       "  array([ 77, 208, 212, ...,  -2,  -2,   0], dtype=int16),\n",
       "  array([-121, -294, -274, ...,  -31,  -25,    0], dtype=int16),\n",
       "  array([-100, -262, -268, ...,   -2,   -1,    0], dtype=int16),\n",
       "  array([-1, -2, -2, ..., -3, -1,  0], dtype=int16),\n",
       "  array([15, 50, 62, ..., -3, -2,  0], dtype=int16),\n",
       "  array([  0, -11, -34, ...,  11,   1,   0], dtype=int16)])"
      ]
     },
     "execution_count": 4,
     "metadata": {},
     "output_type": "execute_result"
    }
   ],
   "source": [
    "X_dev = []\n",
    "rates_dev = []\n",
    "\n",
    "for ad in audio_dev:\n",
    "    complete_path = path + ad\n",
    "    rates_dev.append(wavfile.read(complete_path)[0])\n",
    "    X_dev.append(wavfile.read(complete_path)[1])\n",
    "\n",
    "len(X_dev), len(X_dev[0]), X_dev[:10]"
   ]
  },
  {
   "cell_type": "code",
   "execution_count": 5,
   "id": "5d74ed67",
   "metadata": {},
   "outputs": [
    {
     "data": {
      "text/plain": [
       "(3201,\n",
       " 18260,\n",
       " [array([  6,  20,  17, ..., -13,  -3,   0], dtype=int16),\n",
       "  array([-106, -232, -300, ...,    1,   -3,    0], dtype=int16),\n",
       "  array([-2, -4, -3, ...,  2,  0,  0], dtype=int16),\n",
       "  array([0, 0, 0, ..., 2, 1, 0], dtype=int16),\n",
       "  array([ 68, 175, 156, ...,  -1,  -1,   0], dtype=int16),\n",
       "  array([-37, -86, -76, ...,  -2,  -1,   0], dtype=int16),\n",
       "  array([-13, -50, -57, ..., -13, -10,   0], dtype=int16),\n",
       "  array([-16, -51, -51, ...,  -2,  -1,   0], dtype=int16),\n",
       "  array([ 0,  0,  0, ..., -1, -1,  0], dtype=int16),\n",
       "  array([ 0,  0,  0, ..., -1, -1,  0], dtype=int16)])"
      ]
     },
     "execution_count": 5,
     "metadata": {},
     "output_type": "execute_result"
    }
   ],
   "source": [
    "X_eval = []\n",
    "rates_eval = []\n",
    "\n",
    "for ad in audio_eval:\n",
    "    complete_path = path + ad\n",
    "    rates_eval.append(wavfile.read(complete_path)[0])\n",
    "    X_eval.append(wavfile.read(complete_path)[1])\n",
    "\n",
    "len(X_eval), len(X_eval[0]), X_eval[:10]"
   ]
  },
  {
   "cell_type": "markdown",
   "id": "f800f9f0",
   "metadata": {},
   "source": [
    "<h3>Emotions</h3>"
   ]
  },
  {
   "cell_type": "code",
   "execution_count": 6,
   "id": "9276e302",
   "metadata": {},
   "outputs": [
    {
     "data": {
      "text/plain": [
       "['Disgusted',\n",
       " 'Fearful',\n",
       " 'Neutral',\n",
       " 'Happy',\n",
       " 'Angry',\n",
       " 'Sad',\n",
       " 'Disgusted',\n",
       " 'Happy',\n",
       " 'Angry',\n",
       " 'Neutral']"
      ]
     },
     "execution_count": 6,
     "metadata": {},
     "output_type": "execute_result"
    }
   ],
   "source": [
    "with open('development.csv') as fp:\n",
    "    reader = csv.reader(fp)\n",
    "    col_check = next(reader)\n",
    "    sentiments = [cols[0] for cols in reader]\n",
    "\n",
    "sentiments[:10]"
   ]
  },
  {
   "cell_type": "markdown",
   "id": "dc11d650",
   "metadata": {},
   "source": [
    "<h3>Dataframe audio-emotion</h3>"
   ]
  },
  {
   "cell_type": "code",
   "execution_count": 7,
   "id": "d629b71f",
   "metadata": {},
   "outputs": [
    {
     "data": {
      "text/html": [
       "<div>\n",
       "<style scoped>\n",
       "    .dataframe tbody tr th:only-of-type {\n",
       "        vertical-align: middle;\n",
       "    }\n",
       "\n",
       "    .dataframe tbody tr th {\n",
       "        vertical-align: top;\n",
       "    }\n",
       "\n",
       "    .dataframe thead th {\n",
       "        text-align: right;\n",
       "    }\n",
       "</style>\n",
       "<table border=\"1\" class=\"dataframe\">\n",
       "  <thead>\n",
       "    <tr style=\"text-align: right;\">\n",
       "      <th></th>\n",
       "      <th>name</th>\n",
       "      <th>sentiment</th>\n",
       "    </tr>\n",
       "  </thead>\n",
       "  <tbody>\n",
       "    <tr>\n",
       "      <th>0</th>\n",
       "      <td>0.wav</td>\n",
       "      <td>Disgusted</td>\n",
       "    </tr>\n",
       "    <tr>\n",
       "      <th>1</th>\n",
       "      <td>1.wav</td>\n",
       "      <td>Fearful</td>\n",
       "    </tr>\n",
       "    <tr>\n",
       "      <th>2</th>\n",
       "      <td>2.wav</td>\n",
       "      <td>Neutral</td>\n",
       "    </tr>\n",
       "    <tr>\n",
       "      <th>3</th>\n",
       "      <td>3.wav</td>\n",
       "      <td>Happy</td>\n",
       "    </tr>\n",
       "    <tr>\n",
       "      <th>4</th>\n",
       "      <td>4.wav</td>\n",
       "      <td>Angry</td>\n",
       "    </tr>\n",
       "  </tbody>\n",
       "</table>\n",
       "</div>"
      ],
      "text/plain": [
       "    name  sentiment\n",
       "0  0.wav  Disgusted\n",
       "1  1.wav    Fearful\n",
       "2  2.wav    Neutral\n",
       "3  3.wav      Happy\n",
       "4  4.wav      Angry"
      ]
     },
     "execution_count": 7,
     "metadata": {},
     "output_type": "execute_result"
    }
   ],
   "source": [
    "df_dev = pd.DataFrame(zip(audio_dev, sentiments), columns=['name', 'sentiment'])\n",
    "df_dev.head()"
   ]
  },
  {
   "cell_type": "markdown",
   "id": "1877ea80",
   "metadata": {},
   "source": [
    "Conversion: emotion -> int"
   ]
  },
  {
   "cell_type": "code",
   "execution_count": 8,
   "id": "b8b32b2b",
   "metadata": {},
   "outputs": [],
   "source": [
    "sentiments_dict = {\n",
    "    \"Disgusted\": \"1\",\n",
    "    \"Neutral\": \"2\",\n",
    "    \"Fearful\": \"3\",\n",
    "    \"Sad\": \"4\",\n",
    "    \"Happy\": \"5\",\n",
    "    \"Angry\": \"6\",\n",
    "    \"Suprised\": \"7\" \n",
    "}"
   ]
  },
  {
   "cell_type": "code",
   "execution_count": 9,
   "id": "654eadd9",
   "metadata": {},
   "outputs": [
    {
     "data": {
      "text/plain": [
       "(['1', '3', '2', '5', '6', '4', '1', '5', '6', '2'],\n",
       " ['Disgusted',\n",
       "  'Fearful',\n",
       "  'Neutral',\n",
       "  'Happy',\n",
       "  'Angry',\n",
       "  'Sad',\n",
       "  'Disgusted',\n",
       "  'Happy',\n",
       "  'Angry',\n",
       "  'Neutral'])"
      ]
     },
     "execution_count": 9,
     "metadata": {},
     "output_type": "execute_result"
    }
   ],
   "source": [
    "y_dev = [sentiments_dict[s] for s in sentiments]\n",
    "y_dev[:10], sentiments[:10]"
   ]
  },
  {
   "cell_type": "markdown",
   "id": "95f6c9f0",
   "metadata": {},
   "source": [
    "# Data Exploration"
   ]
  },
  {
   "cell_type": "markdown",
   "id": "f9f7260d",
   "metadata": {},
   "source": [
    "<h2>Class distribution</h2>"
   ]
  },
  {
   "cell_type": "code",
   "execution_count": 10,
   "id": "22375798",
   "metadata": {},
   "outputs": [
    {
     "data": {
      "text/plain": [
       "sentiment\n",
       "Angry        1625\n",
       "Happy        1625\n",
       "Sad          1625\n",
       "Fearful      1535\n",
       "Disgusted    1397\n",
       "Neutral      1346\n",
       "Suprised      444\n",
       "Name: sentiment, dtype: int64"
      ]
     },
     "execution_count": 10,
     "metadata": {},
     "output_type": "execute_result"
    }
   ],
   "source": [
    "df_dev.groupby(by='sentiment').sentiment.count().sort_values(ascending=False)"
   ]
  },
  {
   "cell_type": "markdown",
   "id": "3b0db1f0",
   "metadata": {},
   "source": [
    "<h2>Amplitude and length</h2>"
   ]
  },
  {
   "cell_type": "markdown",
   "id": "ae48b779",
   "metadata": {},
   "source": [
    "* **Amplitude**: how loud we perceive the signal to be. Larger amplitude means louder sound. Zero amplitude means no sound.\n",
    "* **Length**: duration of the sound"
   ]
  },
  {
   "cell_type": "code",
   "execution_count": 11,
   "id": "97b3c09e",
   "metadata": {},
   "outputs": [],
   "source": [
    "amplitudes = [max(abs(x)) for i, x in enumerate(X_dev)]"
   ]
  },
  {
   "cell_type": "code",
   "execution_count": 12,
   "id": "dc6f1168",
   "metadata": {},
   "outputs": [],
   "source": [
    "lengths_dev = [x.shape[0] / rates_dev[i] for i, x in enumerate(X_dev)]\n",
    "lengths_eval = [x.shape[0] / rates_eval[i] for i, x in enumerate(X_eval)]"
   ]
  },
  {
   "cell_type": "markdown",
   "id": "c64637c0",
   "metadata": {},
   "source": [
    "List all the recordings' **lenghts**, and plot them as an histogram. "
   ]
  },
  {
   "cell_type": "code",
   "execution_count": 100,
   "id": "fea5924e",
   "metadata": {},
   "outputs": [],
   "source": [
    "from scipy.fftpack import fft\n",
    "import numpy as np\n",
    "import math\n",
    "\n",
    "with soundfile.SoundFile(audio_sort[4]) as audio:\n",
    "    waveform = audio.read(dtype=\"float32\")\n",
    "    sample_rate = audio.samplerate\n",
    "\n",
    "D = librosa.stft(waveform)\n",
    "magnitude, phase = librosa.magphase(D)"
   ]
  },
  {
   "cell_type": "code",
   "execution_count": 134,
   "id": "048236b5",
   "metadata": {
    "scrolled": true
   },
   "outputs": [
    {
     "data": {
      "image/png": "[encoded data removed]",
      "text/plain": [
       "<Figure size 720x360 with 1 Axes>"
      ]
     },
     "metadata": {},
     "output_type": "display_data"
    }
   ],
   "source": [
    "import matplotlib.pyplot as plt\n",
    "import seaborn as sns\n",
    "\n",
    "sns.set_style(\"whitegrid\")\n",
    "\n",
    "plt.figure(figsize=(10,5))\n",
    "\n",
    "length = X_dev[4].shape[0] / rates_dev[4]\n",
    "time = np.linspace(0., length, X_dev[4].shape[0])\n",
    "plt.plot(time, X_dev[4], alpha=0.5)\n",
    "plt.xlabel(\"Time [s]\", fontsize=18)\n",
    "plt.tick_params(labelsize=16)\n",
    "plt.ylabel(\"Amplitude\", fontsize=18)\n",
    "\n",
    "plt.savefig(\"amplitude.png\")\n",
    "        \n",
    "plt.show()"
   ]
  },
  {
   "cell_type": "code",
   "execution_count": 143,
   "id": "ce7c8ff2",
   "metadata": {},
   "outputs": [
    {
     "data": {
      "image/png": "[encoded data removed]",
      "text/plain": [
       "<Figure size 720x360 with 1 Axes>"
      ]
     },
     "metadata": {},
     "output_type": "display_data"
    }
   ],
   "source": [
    "sns.set_style(\"whitegrid\")\n",
    "\n",
    "plt.figure(figsize=(10,5))\n",
    "\n",
    "length = X_dev[0].shape[0] / rates_dev[0]\n",
    "time = np.linspace(0., length, X_dev[0].shape[0])\n",
    "plt.plot(time, X_dev[0], alpha=0.5)\n",
    "plt.xlabel(\"Time [s]\", fontsize=18)\n",
    "plt.tick_params(labelsize=16)\n",
    "plt.ylabel(\"Amplitude\", fontsize=18)\n",
    "\n",
    "plt.savefig(\"amplitude_happy.png\")\n",
    "        \n",
    "plt.show()"
   ]
  },
  {
   "cell_type": "code",
   "execution_count": 127,
   "id": "7d467130",
   "metadata": {},
   "outputs": [
    {
     "data": {
      "image/png": "[encoded data removed]",
      "text/plain": [
       "<Figure size 720x360 with 1 Axes>"
      ]
     },
     "metadata": {},
     "output_type": "display_data"
    }
   ],
   "source": [
    "# plot emotions\n",
    "plt.figure(figsize=(10,5))\n",
    "\n",
    "#np.unique returns ordered list of unique elements and count of each element\n",
    "emotion_list, count = np.unique(y_dev, return_counts=True)\n",
    "\n",
    "plt.bar(x=range(7), height=count)\n",
    "plt.xticks(ticks=range(7), labels = [\"Disgusted\", \"Neutral\", \"Fearful\", \"Sad\", \"Happy\", \"Angry\", \"Suprised\"])\n",
    "plt.xlabel('Emotion', fontsize=18)\n",
    "plt.tick_params(labelsize=16)\n",
    "plt.ylabel('Number of Samples', fontsize=18)\n",
    "\n",
    "plt.savefig(\"emotions.png\")\n",
    "plt.show()"
   ]
  },
  {
   "cell_type": "code",
   "execution_count": 135,
   "id": "d7233101",
   "metadata": {},
   "outputs": [
    {
     "data": {
      "image/png": "[encoded data removed]",
      "text/plain": [
       "<Figure size 720x432 with 1 Axes>"
      ]
     },
     "metadata": {},
     "output_type": "display_data"
    }
   ],
   "source": [
    "lengths_dev = [x.shape[0] / rates_dev[i] for i, x in enumerate(X_dev)]\n",
    "\n",
    "fig, ax = plt.subplots(figsize=(10,6))\n",
    "sns.histplot(lengths_dev)\n",
    "plt.xlabel(\"Length [s]\", fontsize=18)\n",
    "plt.tick_params(labelsize=16)\n",
    "plt.ylabel(\"Number of recordings\", fontsize=18)\n",
    "\n",
    "plt.savefig(\"lengths.png\")\n",
    "plt.show()"
   ]
  },
  {
   "cell_type": "code",
   "execution_count": 197,
   "id": "b61c9c88",
   "metadata": {},
   "outputs": [
    {
     "data": {
      "image/png": "[encoded data removed]",
      "text/plain": [
       "<Figure size 576x288 with 2 Axes>"
      ]
     },
     "metadata": {},
     "output_type": "display_data"
    }
   ],
   "source": [
    "with soundfile.SoundFile(audio_sort[3]) as audio:\n",
    "    waveform = audio.read(dtype=\"float32\")\n",
    "    sample_rate = audio.samplerate\n",
    "\n",
    "stft_spectrum_matrix = librosa.stft(waveform)\n",
    "plt.figure(figsize=(8, 4))\n",
    "librosa.display.specshow(librosa.amplitude_to_db(np.abs(stft_spectrum_matrix)),y_axis='log', x_axis='time')\n",
    "plt.colorbar(format='%+2.0f dB')\n",
    "plt.xlabel(\"Time [s]\", fontsize=18)\n",
    "plt.tick_params(labelsize=14)\n",
    "plt.ylabel(\"Frequency [Hz]\", fontsize=16)\n",
    "plt.tight_layout()\n",
    "\n",
    "plt.savefig(\"spec_happy.png\")\n",
    "plt.show()"
   ]
  },
  {
   "cell_type": "code",
   "execution_count": 198,
   "id": "cce9a195",
   "metadata": {},
   "outputs": [
    {
     "data": {
      "image/png": "[encoded data removed]",
      "text/plain": [
       "<Figure size 576x288 with 2 Axes>"
      ]
     },
     "metadata": {},
     "output_type": "display_data"
    }
   ],
   "source": [
    "with soundfile.SoundFile(audio_sort[4]) as audio:\n",
    "    waveform = audio.read(dtype=\"float32\")\n",
    "    sample_rate = audio.samplerate\n",
    "\n",
    "stft_spectrum_matrix = librosa.stft(waveform)\n",
    "plt.figure(figsize=(8, 4))\n",
    "librosa.display.specshow(librosa.amplitude_to_db(np.abs(stft_spectrum_matrix), ref=np.max),y_axis='log', x_axis='time')\n",
    "plt.colorbar(format='%+2.0f dB')\n",
    "plt.xlabel(\"Time [s]\", fontsize=18)\n",
    "plt.tick_params(labelsize=14)\n",
    "plt.ylabel(\"Frequency [Hz]\", fontsize=16)\n",
    "plt.tight_layout()\n",
    "\n",
    "plt.savefig(\"spec_angry.png\")\n",
    "plt.show()"
   ]
  },
  {
   "cell_type": "code",
   "execution_count": 288,
   "id": "dc5808e5",
   "metadata": {},
   "outputs": [
    {
     "data": {
      "image/png": "[encoded data removed]",
      "text/plain": [
       "<Figure size 432x288 with 1 Axes>"
      ]
     },
     "metadata": {},
     "output_type": "display_data"
    }
   ],
   "source": [
    "with soundfile.SoundFile(audio_sort[3]) as audio:\n",
    "    waveform = audio.read(dtype=\"float32\")\n",
    "    sample_rate = audio.samplerate\n",
    "\n",
    "# Approximate maximum frequencies with roll_percent=0.85 (default)\n",
    "librosa.feature.spectral_rolloff(y=waveform, sr=sample_rate)\n",
    "# Approximate maximum frequencies with roll_percent=0.99\n",
    "rolloff = librosa.feature.spectral_rolloff(y=waveform, sr=sample_rate, roll_percent=0.99)\n",
    "# Approximate minimum frequencies with roll_percent=0.01\n",
    "rolloff_min = librosa.feature.spectral_rolloff(y=waveform, sr=sample_rate, roll_percent=0.01)\n",
    "    \n",
    "S, phase = librosa.magphase(librosa.stft(waveform))\n",
    "\n",
    "fig, ax = plt.subplots()\n",
    "librosa.display.specshow(librosa.amplitude_to_db(S, ref=np.max),\n",
    "                         y_axis='log', x_axis='time', ax=ax)\n",
    "ax.plot(librosa.times_like(rolloff), rolloff[0], label='Roll-off frequency (0.99)')\n",
    "ax.plot(librosa.times_like(rolloff), rolloff_min[0], color='w',\n",
    "        label='Roll-off frequency (0.01)')\n",
    "ax.legend(loc='lower right')\n",
    "\n",
    "plt.xlabel(\"Time [s]\", fontsize=14)\n",
    "plt.tick_params(labelsize=12)\n",
    "plt.ylabel(\"Frequency [Hz]\", fontsize=14)\n",
    "\n",
    "plt.savefig(\"rolloff_happy.png\")"
   ]
  },
  {
   "cell_type": "code",
   "execution_count": 287,
   "id": "26d369a1",
   "metadata": {},
   "outputs": [
    {
     "data": {
      "image/png": "[encoded data removed]",
      "text/plain": [
       "<Figure size 432x288 with 1 Axes>"
      ]
     },
     "metadata": {},
     "output_type": "display_data"
    }
   ],
   "source": [
    "with soundfile.SoundFile(audio_sort[4]) as audio:\n",
    "    waveform = audio.read(dtype=\"float32\")\n",
    "    sample_rate = audio.samplerate\n",
    "\n",
    "# Approximate maximum frequencies with roll_percent=0.85 (default)\n",
    "librosa.feature.spectral_rolloff(y=waveform, sr=sample_rate)\n",
    "# Approximate maximum frequencies with roll_percent=0.99\n",
    "rolloff = librosa.feature.spectral_rolloff(y=waveform, sr=sample_rate, roll_percent=0.99)\n",
    "# Approximate minimum frequencies with roll_percent=0.01\n",
    "rolloff_min = librosa.feature.spectral_rolloff(y=waveform, sr=sample_rate, roll_percent=0.01)\n",
    "    \n",
    "S, phase = librosa.magphase(librosa.stft(waveform))\n",
    "\n",
    "fig, ax = plt.subplots()\n",
    "librosa.display.specshow(librosa.amplitude_to_db(S, ref=np.max),\n",
    "                         y_axis='log', x_axis='time', ax=ax)\n",
    "ax.plot(librosa.times_like(rolloff), rolloff[0], label='Roll-off frequency (0.99)')\n",
    "ax.plot(librosa.times_like(rolloff), rolloff_min[0], color='w',\n",
    "        label='Roll-off frequency (0.01)')\n",
    "ax.legend(loc='lower right')\n",
    "\n",
    "plt.xlabel(\"Time [s]\", fontsize=14)\n",
    "plt.tick_params(labelsize=12)\n",
    "plt.ylabel(\"Frequency [Hz]\", fontsize=14)\n",
    "\n",
    "plt.savefig(\"rolloff_angry.png\")"
   ]
  },
  {
   "cell_type": "markdown",
   "id": "c7ebf9bb",
   "metadata": {},
   "source": [
    "# Preprocessing"
   ]
  },
  {
   "cell_type": "markdown",
   "id": "140d2d6d",
   "metadata": {},
   "source": [
    "<h2>Data cleaning</h2>"
   ]
  },
  {
   "cell_type": "markdown",
   "id": "3fc1b982",
   "metadata": {},
   "source": [
    "The audio '8005.wav' is empty, so we decide to exclude it"
   ]
  },
  {
   "cell_type": "code",
   "execution_count": 14,
   "id": "6db70986",
   "metadata": {},
   "outputs": [
    {
     "data": {
      "text/plain": [
       "{0}"
      ]
     },
     "execution_count": 14,
     "metadata": {},
     "output_type": "execute_result"
    }
   ],
   "source": [
    "a = [x for x in X_dev[8005]]\n",
    "set(a)"
   ]
  },
  {
   "cell_type": "code",
   "execution_count": 15,
   "id": "3e9a0091",
   "metadata": {},
   "outputs": [
    {
     "data": {
      "text/plain": [
       "array([0, 0, 0, ..., 0, 0, 0], dtype=int16)"
      ]
     },
     "execution_count": 15,
     "metadata": {},
     "output_type": "execute_result"
    }
   ],
   "source": [
    "X_dev.pop(8005) # throw away audio file"
   ]
  },
  {
   "cell_type": "code",
   "execution_count": 16,
   "id": "84152d52",
   "metadata": {},
   "outputs": [
    {
     "data": {
      "text/plain": [
       "'8005.wav'"
      ]
     },
     "execution_count": 16,
     "metadata": {},
     "output_type": "execute_result"
    }
   ],
   "source": [
    "audio_dev.pop(8005) # throw away audio file"
   ]
  },
  {
   "cell_type": "code",
   "execution_count": 17,
   "id": "ebd72fbb",
   "metadata": {},
   "outputs": [
    {
     "data": {
      "text/plain": [
       "'4'"
      ]
     },
     "execution_count": 17,
     "metadata": {},
     "output_type": "execute_result"
    }
   ],
   "source": [
    "y_dev.pop(8005) #throw away relative emotion"
   ]
  },
  {
   "cell_type": "code",
   "execution_count": 18,
   "id": "594975d1",
   "metadata": {},
   "outputs": [
    {
     "data": {
      "text/plain": [
       "'Sad'"
      ]
     },
     "execution_count": 18,
     "metadata": {},
     "output_type": "execute_result"
    }
   ],
   "source": [
    "sentiments.pop(8005) #throw away relative emotion"
   ]
  },
  {
   "cell_type": "markdown",
   "id": "4a47529c",
   "metadata": {},
   "source": [
    "<h5>Updated dataframe audio-emotion(int)</h5>"
   ]
  },
  {
   "cell_type": "code",
   "execution_count": 19,
   "id": "da7199f0",
   "metadata": {},
   "outputs": [
    {
     "data": {
      "text/html": [
       "<div>\n",
       "<style scoped>\n",
       "    .dataframe tbody tr th:only-of-type {\n",
       "        vertical-align: middle;\n",
       "    }\n",
       "\n",
       "    .dataframe tbody tr th {\n",
       "        vertical-align: top;\n",
       "    }\n",
       "\n",
       "    .dataframe thead th {\n",
       "        text-align: right;\n",
       "    }\n",
       "</style>\n",
       "<table border=\"1\" class=\"dataframe\">\n",
       "  <thead>\n",
       "    <tr style=\"text-align: right;\">\n",
       "      <th></th>\n",
       "      <th>name</th>\n",
       "      <th>sentiment</th>\n",
       "    </tr>\n",
       "  </thead>\n",
       "  <tbody>\n",
       "    <tr>\n",
       "      <th>8000</th>\n",
       "      <td>8000.wav</td>\n",
       "      <td>5</td>\n",
       "    </tr>\n",
       "    <tr>\n",
       "      <th>8001</th>\n",
       "      <td>8001.wav</td>\n",
       "      <td>2</td>\n",
       "    </tr>\n",
       "    <tr>\n",
       "      <th>8002</th>\n",
       "      <td>8002.wav</td>\n",
       "      <td>4</td>\n",
       "    </tr>\n",
       "    <tr>\n",
       "      <th>8003</th>\n",
       "      <td>8003.wav</td>\n",
       "      <td>3</td>\n",
       "    </tr>\n",
       "    <tr>\n",
       "      <th>8004</th>\n",
       "      <td>8004.wav</td>\n",
       "      <td>4</td>\n",
       "    </tr>\n",
       "    <tr>\n",
       "      <th>8005</th>\n",
       "      <td>8006.wav</td>\n",
       "      <td>1</td>\n",
       "    </tr>\n",
       "    <tr>\n",
       "      <th>8006</th>\n",
       "      <td>8007.wav</td>\n",
       "      <td>6</td>\n",
       "    </tr>\n",
       "  </tbody>\n",
       "</table>\n",
       "</div>"
      ],
      "text/plain": [
       "          name sentiment\n",
       "8000  8000.wav         5\n",
       "8001  8001.wav         2\n",
       "8002  8002.wav         4\n",
       "8003  8003.wav         3\n",
       "8004  8004.wav         4\n",
       "8005  8006.wav         1\n",
       "8006  8007.wav         6"
      ]
     },
     "execution_count": 19,
     "metadata": {},
     "output_type": "execute_result"
    }
   ],
   "source": [
    "df_dev = pd.DataFrame(zip(audio_dev, y_dev), columns=['name', 'sentiment'])\n",
    "df_dev[8000:8007]"
   ]
  },
  {
   "cell_type": "markdown",
   "id": "f3a60d82",
   "metadata": {},
   "source": [
    "<h2>Feature Extraction</h2>"
   ]
  },
  {
   "cell_type": "code",
   "execution_count": 21,
   "id": "07c12536",
   "metadata": {},
   "outputs": [],
   "source": [
    "import librosa\n",
    "\n",
    "def feature_chromagram(waveform, sample_rate):\n",
    "    # STFT computed here explicitly; mel spectrogram and MFCC functions do this under the hood\n",
    "    stft_spectrogram=np.abs(librosa.stft(waveform))\n",
    "    # Produce the chromagram for all STFT frames and get the mean of each column of the resulting matrix to create a feature array\n",
    "    chromagram=np.mean(librosa.feature.chroma_stft(S=stft_spectrogram, sr=sample_rate).T,axis=0)\n",
    "    return chromagram\n",
    "\n",
    "def feature_chromagram_std(waveform, sample_rate):\n",
    "    # STFT computed here explicitly; mel spectrogram and MFCC functions do this under the hood\n",
    "    stft_spectrogram=np.abs(librosa.stft(waveform))\n",
    "    # Produce the chromagram for all STFT frames and get the mean of each column of the resulting matrix to create a feature array\n",
    "    chromagram=np.std(librosa.feature.chroma_stft(S=stft_spectrogram, sr=sample_rate).T,axis=0)\n",
    "    return chromagram\n",
    "\n",
    "def feature_melspectrogram(waveform, sample_rate):\n",
    "    # Produce the mel spectrogram for all STFT frames and get the mean of each column of the resulting matrix to create a feature array\n",
    "    # Using 8khz as upper frequency bound should be enough for most speech classification tasks\n",
    "    melspectrogram=np.mean(librosa.feature.melspectrogram(y=waveform, sr=sample_rate, n_mels=128).T,axis=0)\n",
    "    return melspectrogram\n",
    "\n",
    "def feature_melspectrogram_std(waveform, sample_rate):\n",
    "    # Produce the mel spectrogram for all STFT frames and get the mean of each column of the resulting matrix to create a feature array\n",
    "    # Using 8khz as upper frequency bound should be enough for most speech classification tasks\n",
    "    melspectrogram=np.std(librosa.feature.melspectrogram(y=waveform, sr=sample_rate, n_mels=128).T,axis=0)\n",
    "    return melspectrogram\n",
    "\n",
    "def feature_mfcc(waveform, sample_rate):\n",
    "    # Compute the MFCCs for all STFT frames and get the mean of each column of the resulting matrix to create a feature array\n",
    "    # 40 filterbanks = 40 coefficients\n",
    "    mfc_coefficients=np.mean(librosa.feature.mfcc(y=waveform, sr=sample_rate, n_mfcc=40).T, axis=0)\n",
    "    return mfc_coefficients\n",
    "\n",
    "def feature_mfcc_std(waveform, sample_rate):\n",
    "    # Compute the MFCCs for all STFT frames and get the mean of each column of the resulting matrix to create a feature array\n",
    "    # 40 filterbanks = 40 coefficients\n",
    "    mfc_coefficients=np.std(librosa.feature.mfcc(y=waveform, sr=sample_rate, n_mfcc=40).T, axis=0)\n",
    "    return mfc_coefficients\n",
    "\n",
    "def feature_rolloff_max(waveform, sample_rate):\n",
    "    rolloff = np.mean(librosa.feature.spectral_rolloff(y=waveform, sr=sample_rate, roll_percent=0.99).T, axis=0)\n",
    "    return rolloff\n",
    "\n",
    "def feature_rolloff_max_std(waveform, sample_rate):\n",
    "    rolloff = np.std(librosa.feature.spectral_rolloff(y=waveform, sr=sample_rate, roll_percent=0.99).T, axis=0)\n",
    "    return rolloff\n",
    "\n",
    "def feature_rolloff_min(waveform, sample_rate):\n",
    "    rolloff_min = np.mean(librosa.feature.spectral_rolloff(y=waveform, sr=sample_rate, roll_percent=0.01).T, axis=0)\n",
    "    return rolloff_min\n",
    "\n",
    "def feature_rolloff_min_std(waveform, sample_rate):\n",
    "    rolloff_min = np.std(librosa.feature.spectral_rolloff(y=waveform, sr=sample_rate, roll_percent=0.01).T, axis=0)\n",
    "    return rolloff_min"
   ]
  },
  {
   "cell_type": "code",
   "execution_count": 25,
   "id": "9d03587b",
   "metadata": {},
   "outputs": [],
   "source": [
    "def get_features(file):\n",
    "    # load an individual soundfile\n",
    "     with soundfile.SoundFile(file) as audio:\n",
    "        waveform = audio.read(dtype=\"float32\")\n",
    "        sample_rate = audio.samplerate\n",
    "        # compute features of soundfile\n",
    "        chromagram = feature_chromagram(waveform, sample_rate)\n",
    "        melspectrogram = feature_melspectrogram(waveform, sample_rate)\n",
    "        mfc_coefficients = feature_mfcc(waveform, sample_rate)\n",
    "#         chromagram_std = feature_chromagram_std(waveform, sample_rate)\n",
    "#         melspectrogram_std = feature_melspectrogram_std(waveform, sample_rate)\n",
    "        mfc_coefficients_std = feature_mfcc_std(waveform, sample_rate)\n",
    "        rolloff_mean = feature_rolloff_max(waveform, sample_rate)\n",
    "        rolloff_std = feature_rolloff_max_std(waveform, sample_rate)\n",
    "        rolloff_min_mean = feature_rolloff_min(waveform, sample_rate)\n",
    "        rolloff_min_std = feature_rolloff_min_std(waveform, sample_rate)\n",
    "\n",
    "        feature_matrix=np.array([])\n",
    "        # use np.hstack to stack our feature arrays horizontally to create a feature matrix\n",
    "        feature_matrix = np.hstack((chromagram, \n",
    "                                    melspectrogram, \n",
    "                                    mfc_coefficients, \n",
    "                                    #chromagram_std, \n",
    "                                    #melspectrogram_std, \n",
    "                                    mfc_coefficients_std,\n",
    "                                    rolloff_mean,\n",
    "                                    rolloff_std,\n",
    "                                    rolloff_min_mean,\n",
    "                                    rolloff_min_std\n",
    "                                   ))\n",
    "        \n",
    "        return feature_matrix"
   ]
  },
  {
   "cell_type": "markdown",
   "id": "b470844f",
   "metadata": {},
   "source": [
    "Each of the 1440 feature arrays has **360 features** composed by mean and std of:\n",
    "* **12 chromagram pitch classes** \n",
    "* **128 mel spectrogram bands** \n",
    "* **40 MFC coefficients**"
   ]
  },
  {
   "cell_type": "markdown",
   "id": "3bed9c8d",
   "metadata": {},
   "source": [
    "<h3> Saving Features </h3>"
   ]
  },
  {
   "cell_type": "code",
   "execution_count": 26,
   "id": "cef43736",
   "metadata": {},
   "outputs": [
    {
     "data": {
      "text/plain": [
       "'audio\\\\8005.wav'"
      ]
     },
     "execution_count": 26,
     "metadata": {},
     "output_type": "execute_result"
    }
   ],
   "source": [
    "path_load = 'audio/*.wav' # we open each file audio\n",
    "audio_id = [file for file in glob.glob(path_load)] \n",
    "audio_sort = sorted(audio_id, key = lambda audio_id: int((audio_id.split('\\\\')[1]).split('.')[0]))\n",
    "audio_sort.pop(8005)"
   ]
  },
  {
   "cell_type": "code",
   "execution_count": 27,
   "id": "504c8c5b",
   "metadata": {},
   "outputs": [
    {
     "data": {
      "text/plain": [
       "['audio\\\\8000.wav',\n",
       " 'audio\\\\8001.wav',\n",
       " 'audio\\\\8002.wav',\n",
       " 'audio\\\\8003.wav',\n",
       " 'audio\\\\8004.wav',\n",
       " 'audio\\\\8006.wav',\n",
       " 'audio\\\\8007.wav',\n",
       " 'audio\\\\8008.wav',\n",
       " 'audio\\\\8009.wav',\n",
       " 'audio\\\\8010.wav']"
      ]
     },
     "execution_count": 27,
     "metadata": {},
     "output_type": "execute_result"
    }
   ],
   "source": [
    "audio_sort[8000:8010]"
   ]
  },
  {
   "cell_type": "markdown",
   "id": "0496d288",
   "metadata": {},
   "source": [
    "<h5>Development Features Loading</h5>"
   ]
  },
  {
   "cell_type": "code",
   "execution_count": 28,
   "id": "be341292",
   "metadata": {},
   "outputs": [],
   "source": [
    "def load_data_dev():\n",
    "    features_list = []\n",
    "    count = 0\n",
    "\n",
    "    for audio in audio_sort[:9596]:\n",
    "        features = get_features(audio)\n",
    "        features_list.append(features)\n",
    "        count += 1\n",
    "        print('\\r' + f' Processed {count}/{9596} audio samples',end=' ')\n",
    "\n",
    "    return np.array(features_list)"
   ]
  },
  {
   "cell_type": "code",
   "execution_count": 29,
   "id": "fc710f0a",
   "metadata": {},
   "outputs": [
    {
     "data": {
      "text/plain": [
       "(224,)"
      ]
     },
     "execution_count": 29,
     "metadata": {},
     "output_type": "execute_result"
    }
   ],
   "source": [
    "# check if our function is correct: 360 features for each audio\n",
    "features = get_features(audio_sort[0])\n",
    "features.shape"
   ]
  },
  {
   "cell_type": "code",
   "execution_count": 30,
   "id": "cdea8907",
   "metadata": {},
   "outputs": [],
   "source": [
    "# load and save the features\n",
    "\n",
    "#features = load_data_dev()\n",
    "#np.save('features_nostdev.npy', features) # save\n",
    "features = np.load('features_rolloff.npy') # load"
   ]
  },
  {
   "cell_type": "markdown",
   "id": "9f0df6de",
   "metadata": {},
   "source": [
    "<h5>Evaluation Features Loading</h5>"
   ]
  },
  {
   "cell_type": "code",
   "execution_count": 31,
   "id": "9affa7ec",
   "metadata": {},
   "outputs": [],
   "source": [
    "def load_data_eval():\n",
    "    features_list = []\n",
    "    count = 0\n",
    "\n",
    "    for audio in audio_sort[9596:]:\n",
    "        features_e = get_features(audio)\n",
    "        features_list.append(features_e)\n",
    "        count += 1\n",
    "        print('\\r' + f' Processed {count}/{3201} audio samples',end=' ')\n",
    "\n",
    "    return np.array(features_list)"
   ]
  },
  {
   "cell_type": "code",
   "execution_count": 32,
   "id": "5c39813e",
   "metadata": {},
   "outputs": [],
   "source": [
    "# load and save the features\n",
    "\n",
    "#features_e = load_data_eval()\n",
    "#np.save('features_e_nostd.npy', features_e) # save\n",
    "features_e = np.load('features_e_rolloff.npy') # load"
   ]
  },
  {
   "cell_type": "markdown",
   "id": "687746fb",
   "metadata": {},
   "source": [
    "<h5>Showing Development Features</h5>"
   ]
  },
  {
   "cell_type": "code",
   "execution_count": 33,
   "id": "8dc46317",
   "metadata": {},
   "outputs": [
    {
     "name": "stdout",
     "output_type": "stream",
     "text": [
      "\n",
      "Audio samples represented: 9596\n",
      "Numerical features extracted per sample: 364\n"
     ]
    },
    {
     "data": {
      "text/html": [
       "<div>\n",
       "<style scoped>\n",
       "    .dataframe tbody tr th:only-of-type {\n",
       "        vertical-align: middle;\n",
       "    }\n",
       "\n",
       "    .dataframe tbody tr th {\n",
       "        vertical-align: top;\n",
       "    }\n",
       "\n",
       "    .dataframe thead th {\n",
       "        text-align: right;\n",
       "    }\n",
       "</style>\n",
       "<table border=\"1\" class=\"dataframe\">\n",
       "  <thead>\n",
       "    <tr style=\"text-align: right;\">\n",
       "      <th></th>\n",
       "      <th>0</th>\n",
       "      <th>1</th>\n",
       "      <th>2</th>\n",
       "      <th>3</th>\n",
       "      <th>4</th>\n",
       "      <th>5</th>\n",
       "      <th>6</th>\n",
       "      <th>7</th>\n",
       "      <th>8</th>\n",
       "      <th>9</th>\n",
       "      <th>...</th>\n",
       "      <th>354</th>\n",
       "      <th>355</th>\n",
       "      <th>356</th>\n",
       "      <th>357</th>\n",
       "      <th>358</th>\n",
       "      <th>359</th>\n",
       "      <th>360</th>\n",
       "      <th>361</th>\n",
       "      <th>362</th>\n",
       "      <th>363</th>\n",
       "    </tr>\n",
       "  </thead>\n",
       "  <tbody>\n",
       "    <tr>\n",
       "      <th>0</th>\n",
       "      <td>0.500702</td>\n",
       "      <td>0.566852</td>\n",
       "      <td>0.558705</td>\n",
       "      <td>0.572815</td>\n",
       "      <td>0.680766</td>\n",
       "      <td>0.683455</td>\n",
       "      <td>0.689658</td>\n",
       "      <td>0.661096</td>\n",
       "      <td>0.632921</td>\n",
       "      <td>0.774900</td>\n",
       "      <td>...</td>\n",
       "      <td>3.815581</td>\n",
       "      <td>4.382455</td>\n",
       "      <td>3.057659</td>\n",
       "      <td>3.097473</td>\n",
       "      <td>4.610806</td>\n",
       "      <td>3.328471</td>\n",
       "      <td>2940.372243</td>\n",
       "      <td>141.421575</td>\n",
       "      <td>30.675551</td>\n",
       "      <td>28.408440</td>\n",
       "    </tr>\n",
       "    <tr>\n",
       "      <th>1</th>\n",
       "      <td>0.457588</td>\n",
       "      <td>0.619915</td>\n",
       "      <td>0.526074</td>\n",
       "      <td>0.450749</td>\n",
       "      <td>0.455352</td>\n",
       "      <td>0.446734</td>\n",
       "      <td>0.428917</td>\n",
       "      <td>0.520044</td>\n",
       "      <td>0.722071</td>\n",
       "      <td>0.826758</td>\n",
       "      <td>...</td>\n",
       "      <td>2.492504</td>\n",
       "      <td>2.736218</td>\n",
       "      <td>3.377244</td>\n",
       "      <td>3.754461</td>\n",
       "      <td>3.351496</td>\n",
       "      <td>3.033338</td>\n",
       "      <td>2942.057292</td>\n",
       "      <td>188.778189</td>\n",
       "      <td>15.066964</td>\n",
       "      <td>5.626668</td>\n",
       "    </tr>\n",
       "    <tr>\n",
       "      <th>2</th>\n",
       "      <td>0.540411</td>\n",
       "      <td>0.523314</td>\n",
       "      <td>0.545674</td>\n",
       "      <td>0.546722</td>\n",
       "      <td>0.591107</td>\n",
       "      <td>0.673998</td>\n",
       "      <td>0.622826</td>\n",
       "      <td>0.710355</td>\n",
       "      <td>0.702440</td>\n",
       "      <td>0.702173</td>\n",
       "      <td>...</td>\n",
       "      <td>4.419738</td>\n",
       "      <td>4.240627</td>\n",
       "      <td>3.332010</td>\n",
       "      <td>4.420833</td>\n",
       "      <td>5.721165</td>\n",
       "      <td>7.848355</td>\n",
       "      <td>3579.427083</td>\n",
       "      <td>407.704519</td>\n",
       "      <td>40.625000</td>\n",
       "      <td>42.720638</td>\n",
       "    </tr>\n",
       "    <tr>\n",
       "      <th>3</th>\n",
       "      <td>0.634227</td>\n",
       "      <td>0.611535</td>\n",
       "      <td>0.608163</td>\n",
       "      <td>0.645341</td>\n",
       "      <td>0.638600</td>\n",
       "      <td>0.663452</td>\n",
       "      <td>0.632984</td>\n",
       "      <td>0.664319</td>\n",
       "      <td>0.652212</td>\n",
       "      <td>0.693982</td>\n",
       "      <td>...</td>\n",
       "      <td>11.756641</td>\n",
       "      <td>10.084002</td>\n",
       "      <td>6.374441</td>\n",
       "      <td>10.700718</td>\n",
       "      <td>10.717606</td>\n",
       "      <td>7.109241</td>\n",
       "      <td>3619.429977</td>\n",
       "      <td>410.580139</td>\n",
       "      <td>41.304977</td>\n",
       "      <td>53.107348</td>\n",
       "    </tr>\n",
       "    <tr>\n",
       "      <th>4</th>\n",
       "      <td>0.694610</td>\n",
       "      <td>0.670607</td>\n",
       "      <td>0.667591</td>\n",
       "      <td>0.557383</td>\n",
       "      <td>0.484761</td>\n",
       "      <td>0.496171</td>\n",
       "      <td>0.564764</td>\n",
       "      <td>0.571357</td>\n",
       "      <td>0.526096</td>\n",
       "      <td>0.596822</td>\n",
       "      <td>...</td>\n",
       "      <td>6.046869</td>\n",
       "      <td>7.090706</td>\n",
       "      <td>4.845734</td>\n",
       "      <td>5.325657</td>\n",
       "      <td>3.858975</td>\n",
       "      <td>3.651301</td>\n",
       "      <td>2994.791667</td>\n",
       "      <td>122.995539</td>\n",
       "      <td>102.604167</td>\n",
       "      <td>74.950251</td>\n",
       "    </tr>\n",
       "    <tr>\n",
       "      <th>...</th>\n",
       "      <td>...</td>\n",
       "      <td>...</td>\n",
       "      <td>...</td>\n",
       "      <td>...</td>\n",
       "      <td>...</td>\n",
       "      <td>...</td>\n",
       "      <td>...</td>\n",
       "      <td>...</td>\n",
       "      <td>...</td>\n",
       "      <td>...</td>\n",
       "      <td>...</td>\n",
       "      <td>...</td>\n",
       "      <td>...</td>\n",
       "      <td>...</td>\n",
       "      <td>...</td>\n",
       "      <td>...</td>\n",
       "      <td>...</td>\n",
       "      <td>...</td>\n",
       "      <td>...</td>\n",
       "      <td>...</td>\n",
       "      <td>...</td>\n",
       "    </tr>\n",
       "    <tr>\n",
       "      <th>9591</th>\n",
       "      <td>0.552948</td>\n",
       "      <td>0.585742</td>\n",
       "      <td>0.648127</td>\n",
       "      <td>0.631997</td>\n",
       "      <td>0.676941</td>\n",
       "      <td>0.588888</td>\n",
       "      <td>0.628685</td>\n",
       "      <td>0.716314</td>\n",
       "      <td>0.683638</td>\n",
       "      <td>0.600254</td>\n",
       "      <td>...</td>\n",
       "      <td>5.181093</td>\n",
       "      <td>4.298060</td>\n",
       "      <td>8.693054</td>\n",
       "      <td>8.477575</td>\n",
       "      <td>6.489693</td>\n",
       "      <td>6.674197</td>\n",
       "      <td>3536.416331</td>\n",
       "      <td>65.577483</td>\n",
       "      <td>27.721774</td>\n",
       "      <td>20.098978</td>\n",
       "    </tr>\n",
       "    <tr>\n",
       "      <th>9592</th>\n",
       "      <td>0.511008</td>\n",
       "      <td>0.462866</td>\n",
       "      <td>0.425166</td>\n",
       "      <td>0.373660</td>\n",
       "      <td>0.496012</td>\n",
       "      <td>0.644718</td>\n",
       "      <td>0.598477</td>\n",
       "      <td>0.598838</td>\n",
       "      <td>0.602773</td>\n",
       "      <td>0.646948</td>\n",
       "      <td>...</td>\n",
       "      <td>6.363210</td>\n",
       "      <td>8.060936</td>\n",
       "      <td>5.480749</td>\n",
       "      <td>4.298759</td>\n",
       "      <td>4.889139</td>\n",
       "      <td>6.013062</td>\n",
       "      <td>3106.617647</td>\n",
       "      <td>603.613983</td>\n",
       "      <td>27.688419</td>\n",
       "      <td>60.399322</td>\n",
       "    </tr>\n",
       "    <tr>\n",
       "      <th>9593</th>\n",
       "      <td>0.437109</td>\n",
       "      <td>0.474989</td>\n",
       "      <td>0.493407</td>\n",
       "      <td>0.561063</td>\n",
       "      <td>0.683795</td>\n",
       "      <td>0.648339</td>\n",
       "      <td>0.589527</td>\n",
       "      <td>0.584382</td>\n",
       "      <td>0.597951</td>\n",
       "      <td>0.622159</td>\n",
       "      <td>...</td>\n",
       "      <td>6.800028</td>\n",
       "      <td>4.767545</td>\n",
       "      <td>4.854922</td>\n",
       "      <td>5.744452</td>\n",
       "      <td>3.497015</td>\n",
       "      <td>8.161992</td>\n",
       "      <td>3409.561821</td>\n",
       "      <td>268.944757</td>\n",
       "      <td>35.835598</td>\n",
       "      <td>35.664952</td>\n",
       "    </tr>\n",
       "    <tr>\n",
       "      <th>9594</th>\n",
       "      <td>0.457277</td>\n",
       "      <td>0.548623</td>\n",
       "      <td>0.473472</td>\n",
       "      <td>0.423716</td>\n",
       "      <td>0.430482</td>\n",
       "      <td>0.516248</td>\n",
       "      <td>0.593164</td>\n",
       "      <td>0.555303</td>\n",
       "      <td>0.549006</td>\n",
       "      <td>0.582210</td>\n",
       "      <td>...</td>\n",
       "      <td>5.447302</td>\n",
       "      <td>10.385190</td>\n",
       "      <td>5.684510</td>\n",
       "      <td>5.781662</td>\n",
       "      <td>5.212767</td>\n",
       "      <td>5.021482</td>\n",
       "      <td>3191.406250</td>\n",
       "      <td>523.521517</td>\n",
       "      <td>22.288603</td>\n",
       "      <td>48.894986</td>\n",
       "    </tr>\n",
       "    <tr>\n",
       "      <th>9595</th>\n",
       "      <td>0.535411</td>\n",
       "      <td>0.678280</td>\n",
       "      <td>0.646166</td>\n",
       "      <td>0.583343</td>\n",
       "      <td>0.580925</td>\n",
       "      <td>0.558997</td>\n",
       "      <td>0.623009</td>\n",
       "      <td>0.737674</td>\n",
       "      <td>0.839468</td>\n",
       "      <td>0.802242</td>\n",
       "      <td>...</td>\n",
       "      <td>5.745651</td>\n",
       "      <td>8.113800</td>\n",
       "      <td>4.935616</td>\n",
       "      <td>4.301491</td>\n",
       "      <td>4.313117</td>\n",
       "      <td>4.037778</td>\n",
       "      <td>3516.036184</td>\n",
       "      <td>154.645310</td>\n",
       "      <td>45.847039</td>\n",
       "      <td>22.929742</td>\n",
       "    </tr>\n",
       "  </tbody>\n",
       "</table>\n",
       "<p>9596 rows × 364 columns</p>\n",
       "</div>"
      ],
      "text/plain": [
       "           0         1         2         3         4         5         6    \\\n",
       "0     0.500702  0.566852  0.558705  0.572815  0.680766  0.683455  0.689658   \n",
       "1     0.457588  0.619915  0.526074  0.450749  0.455352  0.446734  0.428917   \n",
       "2     0.540411  0.523314  0.545674  0.546722  0.591107  0.673998  0.622826   \n",
       "3     0.634227  0.611535  0.608163  0.645341  0.638600  0.663452  0.632984   \n",
       "4     0.694610  0.670607  0.667591  0.557383  0.484761  0.496171  0.564764   \n",
       "...        ...       ...       ...       ...       ...       ...       ...   \n",
       "9591  0.552948  0.585742  0.648127  0.631997  0.676941  0.588888  0.628685   \n",
       "9592  0.511008  0.462866  0.425166  0.373660  0.496012  0.644718  0.598477   \n",
       "9593  0.437109  0.474989  0.493407  0.561063  0.683795  0.648339  0.589527   \n",
       "9594  0.457277  0.548623  0.473472  0.423716  0.430482  0.516248  0.593164   \n",
       "9595  0.535411  0.678280  0.646166  0.583343  0.580925  0.558997  0.623009   \n",
       "\n",
       "           7         8         9    ...        354        355       356  \\\n",
       "0     0.661096  0.632921  0.774900  ...   3.815581   4.382455  3.057659   \n",
       "1     0.520044  0.722071  0.826758  ...   2.492504   2.736218  3.377244   \n",
       "2     0.710355  0.702440  0.702173  ...   4.419738   4.240627  3.332010   \n",
       "3     0.664319  0.652212  0.693982  ...  11.756641  10.084002  6.374441   \n",
       "4     0.571357  0.526096  0.596822  ...   6.046869   7.090706  4.845734   \n",
       "...        ...       ...       ...  ...        ...        ...       ...   \n",
       "9591  0.716314  0.683638  0.600254  ...   5.181093   4.298060  8.693054   \n",
       "9592  0.598838  0.602773  0.646948  ...   6.363210   8.060936  5.480749   \n",
       "9593  0.584382  0.597951  0.622159  ...   6.800028   4.767545  4.854922   \n",
       "9594  0.555303  0.549006  0.582210  ...   5.447302  10.385190  5.684510   \n",
       "9595  0.737674  0.839468  0.802242  ...   5.745651   8.113800  4.935616   \n",
       "\n",
       "            357        358       359          360         361         362  \\\n",
       "0      3.097473   4.610806  3.328471  2940.372243  141.421575   30.675551   \n",
       "1      3.754461   3.351496  3.033338  2942.057292  188.778189   15.066964   \n",
       "2      4.420833   5.721165  7.848355  3579.427083  407.704519   40.625000   \n",
       "3     10.700718  10.717606  7.109241  3619.429977  410.580139   41.304977   \n",
       "4      5.325657   3.858975  3.651301  2994.791667  122.995539  102.604167   \n",
       "...         ...        ...       ...          ...         ...         ...   \n",
       "9591   8.477575   6.489693  6.674197  3536.416331   65.577483   27.721774   \n",
       "9592   4.298759   4.889139  6.013062  3106.617647  603.613983   27.688419   \n",
       "9593   5.744452   3.497015  8.161992  3409.561821  268.944757   35.835598   \n",
       "9594   5.781662   5.212767  5.021482  3191.406250  523.521517   22.288603   \n",
       "9595   4.301491   4.313117  4.037778  3516.036184  154.645310   45.847039   \n",
       "\n",
       "            363  \n",
       "0     28.408440  \n",
       "1      5.626668  \n",
       "2     42.720638  \n",
       "3     53.107348  \n",
       "4     74.950251  \n",
       "...         ...  \n",
       "9591  20.098978  \n",
       "9592  60.399322  \n",
       "9593  35.664952  \n",
       "9594  48.894986  \n",
       "9595  22.929742  \n",
       "\n",
       "[9596 rows x 364 columns]"
      ]
     },
     "execution_count": 33,
     "metadata": {},
     "output_type": "execute_result"
    }
   ],
   "source": [
    "print(f'\\nAudio samples represented: {features.shape[0]}')\n",
    "print(f'Numerical features extracted per sample: {features.shape[1]}')\n",
    "features_df = pd.DataFrame(features) # make it pretty for display\n",
    "features_df"
   ]
  },
  {
   "cell_type": "markdown",
   "id": "b7e33c95",
   "metadata": {},
   "source": [
    "<h5>Showing Evaluation Features</h5>"
   ]
  },
  {
   "cell_type": "code",
   "execution_count": 34,
   "id": "4010f5ca",
   "metadata": {},
   "outputs": [
    {
     "name": "stdout",
     "output_type": "stream",
     "text": [
      "\n",
      "Audio samples represented: 3201\n",
      "Numerical features extracted per sample: 364\n"
     ]
    },
    {
     "data": {
      "text/html": [
       "<div>\n",
       "<style scoped>\n",
       "    .dataframe tbody tr th:only-of-type {\n",
       "        vertical-align: middle;\n",
       "    }\n",
       "\n",
       "    .dataframe tbody tr th {\n",
       "        vertical-align: top;\n",
       "    }\n",
       "\n",
       "    .dataframe thead th {\n",
       "        text-align: right;\n",
       "    }\n",
       "</style>\n",
       "<table border=\"1\" class=\"dataframe\">\n",
       "  <thead>\n",
       "    <tr style=\"text-align: right;\">\n",
       "      <th></th>\n",
       "      <th>0</th>\n",
       "      <th>1</th>\n",
       "      <th>2</th>\n",
       "      <th>3</th>\n",
       "      <th>4</th>\n",
       "      <th>5</th>\n",
       "      <th>6</th>\n",
       "      <th>7</th>\n",
       "      <th>8</th>\n",
       "      <th>9</th>\n",
       "      <th>...</th>\n",
       "      <th>354</th>\n",
       "      <th>355</th>\n",
       "      <th>356</th>\n",
       "      <th>357</th>\n",
       "      <th>358</th>\n",
       "      <th>359</th>\n",
       "      <th>360</th>\n",
       "      <th>361</th>\n",
       "      <th>362</th>\n",
       "      <th>363</th>\n",
       "    </tr>\n",
       "  </thead>\n",
       "  <tbody>\n",
       "    <tr>\n",
       "      <th>0</th>\n",
       "      <td>0.579606</td>\n",
       "      <td>0.497676</td>\n",
       "      <td>0.334377</td>\n",
       "      <td>0.337228</td>\n",
       "      <td>0.374322</td>\n",
       "      <td>0.502154</td>\n",
       "      <td>0.516508</td>\n",
       "      <td>0.496264</td>\n",
       "      <td>0.557097</td>\n",
       "      <td>0.541895</td>\n",
       "      <td>...</td>\n",
       "      <td>6.892682</td>\n",
       "      <td>9.440127</td>\n",
       "      <td>10.706579</td>\n",
       "      <td>7.166421</td>\n",
       "      <td>4.748840</td>\n",
       "      <td>5.729405</td>\n",
       "      <td>3069.444444</td>\n",
       "      <td>588.004969</td>\n",
       "      <td>53.385417</td>\n",
       "      <td>63.127546</td>\n",
       "    </tr>\n",
       "    <tr>\n",
       "      <th>1</th>\n",
       "      <td>0.575775</td>\n",
       "      <td>0.629412</td>\n",
       "      <td>0.632316</td>\n",
       "      <td>0.701033</td>\n",
       "      <td>0.660796</td>\n",
       "      <td>0.492704</td>\n",
       "      <td>0.543325</td>\n",
       "      <td>0.622694</td>\n",
       "      <td>0.614753</td>\n",
       "      <td>0.758012</td>\n",
       "      <td>...</td>\n",
       "      <td>5.905391</td>\n",
       "      <td>7.407476</td>\n",
       "      <td>4.272279</td>\n",
       "      <td>3.465043</td>\n",
       "      <td>3.048451</td>\n",
       "      <td>3.881583</td>\n",
       "      <td>3274.796196</td>\n",
       "      <td>166.710437</td>\n",
       "      <td>24.966033</td>\n",
       "      <td>20.725676</td>\n",
       "    </tr>\n",
       "    <tr>\n",
       "      <th>2</th>\n",
       "      <td>0.318462</td>\n",
       "      <td>0.336362</td>\n",
       "      <td>0.344165</td>\n",
       "      <td>0.342262</td>\n",
       "      <td>0.387035</td>\n",
       "      <td>0.565989</td>\n",
       "      <td>0.556035</td>\n",
       "      <td>0.437274</td>\n",
       "      <td>0.430719</td>\n",
       "      <td>0.639036</td>\n",
       "      <td>...</td>\n",
       "      <td>7.384307</td>\n",
       "      <td>7.223394</td>\n",
       "      <td>6.574137</td>\n",
       "      <td>8.568053</td>\n",
       "      <td>7.095102</td>\n",
       "      <td>7.951602</td>\n",
       "      <td>2779.947917</td>\n",
       "      <td>674.702847</td>\n",
       "      <td>2.697173</td>\n",
       "      <td>3.564689</td>\n",
       "    </tr>\n",
       "    <tr>\n",
       "      <th>3</th>\n",
       "      <td>0.651978</td>\n",
       "      <td>0.581008</td>\n",
       "      <td>0.587467</td>\n",
       "      <td>0.574779</td>\n",
       "      <td>0.535780</td>\n",
       "      <td>0.597151</td>\n",
       "      <td>0.616904</td>\n",
       "      <td>0.666756</td>\n",
       "      <td>0.677997</td>\n",
       "      <td>0.663353</td>\n",
       "      <td>...</td>\n",
       "      <td>7.259266</td>\n",
       "      <td>3.264596</td>\n",
       "      <td>3.611163</td>\n",
       "      <td>3.443871</td>\n",
       "      <td>3.954422</td>\n",
       "      <td>2.844654</td>\n",
       "      <td>3395.148026</td>\n",
       "      <td>759.982871</td>\n",
       "      <td>91.557018</td>\n",
       "      <td>112.642628</td>\n",
       "    </tr>\n",
       "    <tr>\n",
       "      <th>4</th>\n",
       "      <td>0.553493</td>\n",
       "      <td>0.606990</td>\n",
       "      <td>0.700094</td>\n",
       "      <td>0.627647</td>\n",
       "      <td>0.654059</td>\n",
       "      <td>0.663072</td>\n",
       "      <td>0.673213</td>\n",
       "      <td>0.746124</td>\n",
       "      <td>0.773012</td>\n",
       "      <td>0.812928</td>\n",
       "      <td>...</td>\n",
       "      <td>4.110006</td>\n",
       "      <td>2.449063</td>\n",
       "      <td>4.501359</td>\n",
       "      <td>2.929330</td>\n",
       "      <td>3.716128</td>\n",
       "      <td>2.473401</td>\n",
       "      <td>3097.873264</td>\n",
       "      <td>120.074199</td>\n",
       "      <td>13.346354</td>\n",
       "      <td>6.133282</td>\n",
       "    </tr>\n",
       "    <tr>\n",
       "      <th>...</th>\n",
       "      <td>...</td>\n",
       "      <td>...</td>\n",
       "      <td>...</td>\n",
       "      <td>...</td>\n",
       "      <td>...</td>\n",
       "      <td>...</td>\n",
       "      <td>...</td>\n",
       "      <td>...</td>\n",
       "      <td>...</td>\n",
       "      <td>...</td>\n",
       "      <td>...</td>\n",
       "      <td>...</td>\n",
       "      <td>...</td>\n",
       "      <td>...</td>\n",
       "      <td>...</td>\n",
       "      <td>...</td>\n",
       "      <td>...</td>\n",
       "      <td>...</td>\n",
       "      <td>...</td>\n",
       "      <td>...</td>\n",
       "      <td>...</td>\n",
       "    </tr>\n",
       "    <tr>\n",
       "      <th>3196</th>\n",
       "      <td>0.497678</td>\n",
       "      <td>0.444853</td>\n",
       "      <td>0.412034</td>\n",
       "      <td>0.421018</td>\n",
       "      <td>0.443774</td>\n",
       "      <td>0.522786</td>\n",
       "      <td>0.523760</td>\n",
       "      <td>0.504268</td>\n",
       "      <td>0.524100</td>\n",
       "      <td>0.606688</td>\n",
       "      <td>...</td>\n",
       "      <td>5.580297</td>\n",
       "      <td>4.522527</td>\n",
       "      <td>4.652802</td>\n",
       "      <td>4.359658</td>\n",
       "      <td>3.296475</td>\n",
       "      <td>4.021344</td>\n",
       "      <td>3795.530225</td>\n",
       "      <td>174.374473</td>\n",
       "      <td>90.676230</td>\n",
       "      <td>93.381369</td>\n",
       "    </tr>\n",
       "    <tr>\n",
       "      <th>3197</th>\n",
       "      <td>0.554727</td>\n",
       "      <td>0.651280</td>\n",
       "      <td>0.537414</td>\n",
       "      <td>0.508922</td>\n",
       "      <td>0.539245</td>\n",
       "      <td>0.528048</td>\n",
       "      <td>0.503548</td>\n",
       "      <td>0.579086</td>\n",
       "      <td>0.659318</td>\n",
       "      <td>0.663135</td>\n",
       "      <td>...</td>\n",
       "      <td>5.616616</td>\n",
       "      <td>6.675679</td>\n",
       "      <td>5.227747</td>\n",
       "      <td>3.719068</td>\n",
       "      <td>5.060220</td>\n",
       "      <td>4.427855</td>\n",
       "      <td>3565.995066</td>\n",
       "      <td>90.670314</td>\n",
       "      <td>33.819901</td>\n",
       "      <td>30.367318</td>\n",
       "    </tr>\n",
       "    <tr>\n",
       "      <th>3198</th>\n",
       "      <td>0.509292</td>\n",
       "      <td>0.412877</td>\n",
       "      <td>0.382587</td>\n",
       "      <td>0.440863</td>\n",
       "      <td>0.521328</td>\n",
       "      <td>0.666113</td>\n",
       "      <td>0.564177</td>\n",
       "      <td>0.575636</td>\n",
       "      <td>0.529484</td>\n",
       "      <td>0.483416</td>\n",
       "      <td>...</td>\n",
       "      <td>8.365913</td>\n",
       "      <td>7.431316</td>\n",
       "      <td>6.734173</td>\n",
       "      <td>9.311949</td>\n",
       "      <td>8.308496</td>\n",
       "      <td>6.400976</td>\n",
       "      <td>3651.408451</td>\n",
       "      <td>253.207806</td>\n",
       "      <td>89.733715</td>\n",
       "      <td>78.626723</td>\n",
       "    </tr>\n",
       "    <tr>\n",
       "      <th>3199</th>\n",
       "      <td>0.404453</td>\n",
       "      <td>0.384668</td>\n",
       "      <td>0.295008</td>\n",
       "      <td>0.352695</td>\n",
       "      <td>0.413201</td>\n",
       "      <td>0.521100</td>\n",
       "      <td>0.605122</td>\n",
       "      <td>0.463511</td>\n",
       "      <td>0.474480</td>\n",
       "      <td>0.633223</td>\n",
       "      <td>...</td>\n",
       "      <td>4.930772</td>\n",
       "      <td>5.833594</td>\n",
       "      <td>5.136961</td>\n",
       "      <td>5.415641</td>\n",
       "      <td>5.671889</td>\n",
       "      <td>5.572770</td>\n",
       "      <td>3332.519531</td>\n",
       "      <td>419.857996</td>\n",
       "      <td>26.123047</td>\n",
       "      <td>23.283132</td>\n",
       "    </tr>\n",
       "    <tr>\n",
       "      <th>3200</th>\n",
       "      <td>0.678615</td>\n",
       "      <td>0.695610</td>\n",
       "      <td>0.578166</td>\n",
       "      <td>0.536485</td>\n",
       "      <td>0.546008</td>\n",
       "      <td>0.584828</td>\n",
       "      <td>0.637647</td>\n",
       "      <td>0.685628</td>\n",
       "      <td>0.759209</td>\n",
       "      <td>0.807446</td>\n",
       "      <td>...</td>\n",
       "      <td>5.419076</td>\n",
       "      <td>4.664141</td>\n",
       "      <td>5.823477</td>\n",
       "      <td>7.944046</td>\n",
       "      <td>6.356676</td>\n",
       "      <td>6.490458</td>\n",
       "      <td>3516.673018</td>\n",
       "      <td>157.497933</td>\n",
       "      <td>53.925305</td>\n",
       "      <td>25.784707</td>\n",
       "    </tr>\n",
       "  </tbody>\n",
       "</table>\n",
       "<p>3201 rows × 364 columns</p>\n",
       "</div>"
      ],
      "text/plain": [
       "           0         1         2         3         4         5         6    \\\n",
       "0     0.579606  0.497676  0.334377  0.337228  0.374322  0.502154  0.516508   \n",
       "1     0.575775  0.629412  0.632316  0.701033  0.660796  0.492704  0.543325   \n",
       "2     0.318462  0.336362  0.344165  0.342262  0.387035  0.565989  0.556035   \n",
       "3     0.651978  0.581008  0.587467  0.574779  0.535780  0.597151  0.616904   \n",
       "4     0.553493  0.606990  0.700094  0.627647  0.654059  0.663072  0.673213   \n",
       "...        ...       ...       ...       ...       ...       ...       ...   \n",
       "3196  0.497678  0.444853  0.412034  0.421018  0.443774  0.522786  0.523760   \n",
       "3197  0.554727  0.651280  0.537414  0.508922  0.539245  0.528048  0.503548   \n",
       "3198  0.509292  0.412877  0.382587  0.440863  0.521328  0.666113  0.564177   \n",
       "3199  0.404453  0.384668  0.295008  0.352695  0.413201  0.521100  0.605122   \n",
       "3200  0.678615  0.695610  0.578166  0.536485  0.546008  0.584828  0.637647   \n",
       "\n",
       "           7         8         9    ...       354       355        356  \\\n",
       "0     0.496264  0.557097  0.541895  ...  6.892682  9.440127  10.706579   \n",
       "1     0.622694  0.614753  0.758012  ...  5.905391  7.407476   4.272279   \n",
       "2     0.437274  0.430719  0.639036  ...  7.384307  7.223394   6.574137   \n",
       "3     0.666756  0.677997  0.663353  ...  7.259266  3.264596   3.611163   \n",
       "4     0.746124  0.773012  0.812928  ...  4.110006  2.449063   4.501359   \n",
       "...        ...       ...       ...  ...       ...       ...        ...   \n",
       "3196  0.504268  0.524100  0.606688  ...  5.580297  4.522527   4.652802   \n",
       "3197  0.579086  0.659318  0.663135  ...  5.616616  6.675679   5.227747   \n",
       "3198  0.575636  0.529484  0.483416  ...  8.365913  7.431316   6.734173   \n",
       "3199  0.463511  0.474480  0.633223  ...  4.930772  5.833594   5.136961   \n",
       "3200  0.685628  0.759209  0.807446  ...  5.419076  4.664141   5.823477   \n",
       "\n",
       "           357       358       359          360         361        362  \\\n",
       "0     7.166421  4.748840  5.729405  3069.444444  588.004969  53.385417   \n",
       "1     3.465043  3.048451  3.881583  3274.796196  166.710437  24.966033   \n",
       "2     8.568053  7.095102  7.951602  2779.947917  674.702847   2.697173   \n",
       "3     3.443871  3.954422  2.844654  3395.148026  759.982871  91.557018   \n",
       "4     2.929330  3.716128  2.473401  3097.873264  120.074199  13.346354   \n",
       "...        ...       ...       ...          ...         ...        ...   \n",
       "3196  4.359658  3.296475  4.021344  3795.530225  174.374473  90.676230   \n",
       "3197  3.719068  5.060220  4.427855  3565.995066   90.670314  33.819901   \n",
       "3198  9.311949  8.308496  6.400976  3651.408451  253.207806  89.733715   \n",
       "3199  5.415641  5.671889  5.572770  3332.519531  419.857996  26.123047   \n",
       "3200  7.944046  6.356676  6.490458  3516.673018  157.497933  53.925305   \n",
       "\n",
       "             363  \n",
       "0      63.127546  \n",
       "1      20.725676  \n",
       "2       3.564689  \n",
       "3     112.642628  \n",
       "4       6.133282  \n",
       "...          ...  \n",
       "3196   93.381369  \n",
       "3197   30.367318  \n",
       "3198   78.626723  \n",
       "3199   23.283132  \n",
       "3200   25.784707  \n",
       "\n",
       "[3201 rows x 364 columns]"
      ]
     },
     "execution_count": 34,
     "metadata": {},
     "output_type": "execute_result"
    }
   ],
   "source": [
    "print(f'\\nAudio samples represented: {features_e.shape[0]}')\n",
    "print(f'Numerical features extracted per sample: {features_e.shape[1]}')\n",
    "features_df_e = pd.DataFrame(features_e) # make it pretty for display\n",
    "features_df_e"
   ]
  },
  {
   "cell_type": "markdown",
   "id": "e3c64869",
   "metadata": {},
   "source": [
    "# Model Selection"
   ]
  },
  {
   "cell_type": "markdown",
   "id": "87dfe9d8",
   "metadata": {},
   "source": [
    "<h3> Train-Test separation </h3>"
   ]
  },
  {
   "cell_type": "code",
   "execution_count": 235,
   "id": "09b76af2",
   "metadata": {},
   "outputs": [],
   "source": [
    "X_train, X_test, y_train, y_test = train_test_split(\n",
    "    features, \n",
    "    y_dev, \n",
    "    test_size=0.2, \n",
    "    random_state=42,\n",
    "    shuffle=True\n",
    ")"
   ]
  },
  {
   "cell_type": "markdown",
   "id": "874dd796",
   "metadata": {},
   "source": [
    "<h2>LGBM</h2>"
   ]
  },
  {
   "cell_type": "code",
   "execution_count": 226,
   "id": "409e76ee",
   "metadata": {},
   "outputs": [],
   "source": [
    "import lightgbm as lgb\n",
    "from sklearn.model_selection import train_test_split\n",
    "from sklearn.metrics import classification_report\n",
    "\n",
    "clf = lgb.LGBMClassifier(\n",
    "    learning_rate=0.025,\n",
    "    boosting_type='gbdt',\n",
    "    objective='multiclass',\n",
    "    metric='multi_logloss',\n",
    "    max_depth=37,\n",
    "    max_bin = 800,\n",
    "    n_estimators = 2000,\n",
    "    num_leaves = 22\n",
    ")\n",
    "\n",
    "clf.fit(X_train, y_train)\n",
    "y_pred=clf.predict(X_test)"
   ]
  },
  {
   "cell_type": "code",
   "execution_count": 227,
   "id": "13079b24",
   "metadata": {},
   "outputs": [
    {
     "name": "stdout",
     "output_type": "stream",
     "text": [
      "              precision    recall  f1-score   support\n",
      "\n",
      "           1       0.63      0.57      0.60       290\n",
      "           2       0.64      0.73      0.68       270\n",
      "           3       0.70      0.60      0.65       303\n",
      "           4       0.65      0.76      0.70       324\n",
      "           5       0.70      0.64      0.67       337\n",
      "           6       0.77      0.83      0.80       310\n",
      "           7       0.95      0.84      0.89        86\n",
      "\n",
      "    accuracy                           0.69      1920\n",
      "   macro avg       0.72      0.71      0.71      1920\n",
      "weighted avg       0.70      0.69      0.69      1920\n",
      "\n",
      "Test Set F-score score =  71.2%\n"
     ]
    }
   ],
   "source": [
    "print(classification_report(y_test, y_pred))\n",
    "print(f'Test Set F-score score =  {100*f1_score(y_test, y_pred, average=\"macro\"):.3}%')"
   ]
  },
  {
   "cell_type": "code",
   "execution_count": 84,
   "id": "bfb8a854",
   "metadata": {},
   "outputs": [],
   "source": [
    "clf.fit(features, y_dev)\n",
    "y_final = clf.predict(features_e)"
   ]
  },
  {
   "cell_type": "markdown",
   "id": "dd62c021",
   "metadata": {},
   "source": [
    "<h1>Feature Scaling for Models Comparison</h1>"
   ]
  },
  {
   "cell_type": "code",
   "execution_count": 289,
   "id": "40ed5365",
   "metadata": {},
   "outputs": [],
   "source": [
    "from sklearn.preprocessing import StandardScaler\n",
    "\n",
    "scaler = StandardScaler()\n",
    "# keep our unscaled features just in case we need to process them alternatively\n",
    "features_scaled = features \n",
    "features_scaled = scaler.fit_transform(features_scaled)\n",
    "\n",
    "features_scaled_e = features_e\n",
    "features_scaled_e = scaler.transform(features_scaled_e)"
   ]
  },
  {
   "cell_type": "code",
   "execution_count": 204,
   "id": "672ab894",
   "metadata": {},
   "outputs": [],
   "source": [
    "X_train_scaled, X_test_scaled, y_train_scaled, y_test_scaled = train_test_split(\n",
    "    features_scaled, \n",
    "    y_dev, \n",
    "    test_size=0.2, \n",
    "    random_state=42\n",
    ")"
   ]
  },
  {
   "cell_type": "code",
   "execution_count": 228,
   "id": "00b3775c",
   "metadata": {},
   "outputs": [
    {
     "data": {
      "text/html": [
       "<div>\n",
       "<style scoped>\n",
       "    .dataframe tbody tr th:only-of-type {\n",
       "        vertical-align: middle;\n",
       "    }\n",
       "\n",
       "    .dataframe tbody tr th {\n",
       "        vertical-align: top;\n",
       "    }\n",
       "\n",
       "    .dataframe thead th {\n",
       "        text-align: right;\n",
       "    }\n",
       "</style>\n",
       "<table border=\"1\" class=\"dataframe\">\n",
       "  <thead>\n",
       "    <tr style=\"text-align: right;\">\n",
       "      <th></th>\n",
       "      <th>Classifier</th>\n",
       "      <th>F1 Score</th>\n",
       "    </tr>\n",
       "  </thead>\n",
       "  <tbody>\n",
       "    <tr>\n",
       "      <th>3</th>\n",
       "      <td>RandomForestClassifier</td>\n",
       "      <td>63.890%</td>\n",
       "    </tr>\n",
       "    <tr>\n",
       "      <th>0</th>\n",
       "      <td>KNeighborsClassifier</td>\n",
       "      <td>60.273%</td>\n",
       "    </tr>\n",
       "    <tr>\n",
       "      <th>1</th>\n",
       "      <td>SVC</td>\n",
       "      <td>60.108%</td>\n",
       "    </tr>\n",
       "    <tr>\n",
       "      <th>2</th>\n",
       "      <td>DecisionTreeClassifier</td>\n",
       "      <td>49.052%</td>\n",
       "    </tr>\n",
       "    <tr>\n",
       "      <th>4</th>\n",
       "      <td>GaussianNB</td>\n",
       "      <td>25.789%</td>\n",
       "    </tr>\n",
       "  </tbody>\n",
       "</table>\n",
       "</div>"
      ],
      "text/plain": [
       "               Classifier F1 Score\n",
       "3  RandomForestClassifier  63.890%\n",
       "0    KNeighborsClassifier  60.273%\n",
       "1                     SVC  60.108%\n",
       "2  DecisionTreeClassifier  49.052%\n",
       "4              GaussianNB  25.789%"
      ]
     },
     "execution_count": 228,
     "metadata": {},
     "output_type": "execute_result"
    }
   ],
   "source": [
    "from sklearn.neighbors import KNeighborsClassifier\n",
    "from sklearn.svm import SVC\n",
    "from sklearn.tree import DecisionTreeClassifier\n",
    "from sklearn.ensemble import RandomForestClassifier\n",
    "from sklearn.naive_bayes import GaussianNB\n",
    "\n",
    "classification_models = [\n",
    "    KNeighborsClassifier(),#(3),\n",
    "    SVC(kernel='linear'),#, C=0.025),\n",
    "    DecisionTreeClassifier(),#max_depth=5),\n",
    "    RandomForestClassifier(),#max_depth=5, n_estimators=10, max_features=1),\n",
    "    GaussianNB()]\n",
    "\n",
    "scores = []\n",
    "for model in classification_models:\n",
    "    model.fit(X_train_scaled, y_train_scaled)\n",
    "    y_pred_new=model.predict(X_test_scaled)\n",
    "    score = f1_score(y_test_scaled, y_pred_new, average=\"macro\")\n",
    "    model_name = type(model).__name__\n",
    "    if model_name=='SVC' and model.kernel=='rbf': model_name+=' RBF kernel'\n",
    "    scores.append((model_name,(f'{100*score:.3f}%')))\n",
    "# Make it pretty\n",
    "scores_df = pd.DataFrame(scores,columns=['Classifier','F1 Score'])\n",
    "scores_df.sort_values(by='F1 Score',axis=0,ascending=False)"
   ]
  },
  {
   "cell_type": "markdown",
   "id": "b4987ecd",
   "metadata": {},
   "source": [
    "<h2> Random Forest </h2>"
   ]
  },
  {
   "cell_type": "code",
   "execution_count": 236,
   "id": "3e901c6f",
   "metadata": {},
   "outputs": [
    {
     "name": "stdout",
     "output_type": "stream",
     "text": [
      "              precision    recall  f1-score   support\n",
      "\n",
      "           1       0.61      0.44      0.51       290\n",
      "           2       0.54      0.72      0.61       270\n",
      "           3       0.74      0.39      0.51       303\n",
      "           4       0.58      0.78      0.67       324\n",
      "           5       0.61      0.58      0.59       337\n",
      "           6       0.71      0.81      0.75       310\n",
      "           7       0.92      0.85      0.88        86\n",
      "\n",
      "    accuracy                           0.63      1920\n",
      "   macro avg       0.67      0.65      0.65      1920\n",
      "weighted avg       0.64      0.63      0.62      1920\n",
      "\n",
      "Test Set F-score score = 64.8%\n"
     ]
    }
   ],
   "source": [
    "rf = RandomForestClassifier(\n",
    "    max_depth=200, \n",
    "    n_estimators=2000, \n",
    "    random_state=42, \n",
    "    criterion='entropy',\n",
    "    max_features='sqrt',    \n",
    "    n_jobs=-1\n",
    ")\n",
    "\n",
    "rf.fit(X_train, y_train)\n",
    "y_pred = rf.predict(X_test)\n",
    "\n",
    "print(classification_report(y_test, y_pred))\n",
    "print(f'Test Set F-score score = {100*f1_score(y_test, y_pred, average=\"macro\"):.3}%')"
   ]
  },
  {
   "cell_type": "markdown",
   "id": "11b26be2",
   "metadata": {},
   "source": [
    "<h2>MLP</h2>"
   ]
  },
  {
   "cell_type": "code",
   "execution_count": 290,
   "id": "e8cee21b",
   "metadata": {},
   "outputs": [
    {
     "name": "stdout",
     "output_type": "stream",
     "text": [
      "              precision    recall  f1-score   support\n",
      "\n",
      "           1       0.59      0.58      0.58       290\n",
      "           2       0.66      0.68      0.67       270\n",
      "           3       0.59      0.62      0.60       303\n",
      "           4       0.70      0.72      0.71       324\n",
      "           5       0.62      0.55      0.58       337\n",
      "           6       0.74      0.75      0.74       310\n",
      "           7       0.82      0.85      0.83        86\n",
      "\n",
      "    accuracy                           0.66      1920\n",
      "   macro avg       0.67      0.68      0.68      1920\n",
      "weighted avg       0.66      0.66      0.66      1920\n",
      "\n",
      "Test Set F-score score =  67.6%\n"
     ]
    }
   ],
   "source": [
    "from sklearn.neural_network import MLPClassifier\n",
    "\n",
    "model = MLPClassifier(\n",
    "    activation= 'logistic', \n",
    "    alpha= 0.01,\n",
    "    epsilon= 1e-08,\n",
    "    hidden_layer_sizes= (300,),\n",
    "    learning_rate= 'adaptive', \n",
    "    solver= 'adam',\n",
    "    max_iter=1000,\n",
    "    random_state=42\n",
    ")\n",
    "\n",
    "model.fit(X_train_scaled, y_train_scaled)\n",
    "y_pred=model.predict(X_test_scaled)\n",
    "\n",
    "print(classification_report(y_test_scaled, y_pred))\n",
    "print(f'Test Set F-score score =  {100*f1_score(y_test_scaled, y_pred, average=\"macro\"):.3}%')"
   ]
  },
  {
   "cell_type": "markdown",
   "id": "a9b5b372",
   "metadata": {},
   "source": [
    "<h1>Hyperparameters Tuning</h1>"
   ]
  },
  {
   "cell_type": "markdown",
   "id": "231efeba",
   "metadata": {},
   "source": [
    "<h2>Improving Random Forest</h2>"
   ]
  },
  {
   "cell_type": "code",
   "execution_count": 238,
   "id": "7a0a74bb",
   "metadata": {},
   "outputs": [],
   "source": [
    "feat_s = pd.Series(rf.feature_importances_, index=np.arange(0,364))"
   ]
  },
  {
   "cell_type": "code",
   "execution_count": 266,
   "id": "fc9ec50b",
   "metadata": {},
   "outputs": [
    {
     "data": {
      "text/plain": [
       "Int64Index([363, 320, 334, 336, 335, 321, 361, 152, 165, 362, 134, 327, 332,\n",
       "            322,  72,  22, 333, 330, 131, 101, 338, 325, 202,  26, 119, 329,\n",
       "             21, 132, 164, 157, 201, 337, 102, 140, 345,  18,  65,  27, 328,\n",
       "            118,  73, 135, 200,  20,  82, 155, 198,  17,  28,  19, 130, 142,\n",
       "            156, 154,  23, 360, 206, 311, 151,  66, 324, 141, 252,  25,  74,\n",
       "            203, 153, 331, 147, 207,  71,   4, 310,   9,   3, 178, 342, 159,\n",
       "            136, 199,  16, 312, 160, 166,  75, 133,  67, 143, 314, 120, 117,\n",
       "            158, 326, 161,  15,  24, 137, 125, 124,  36],\n",
       "           dtype='int64')"
      ]
     },
     "execution_count": 266,
     "metadata": {},
     "output_type": "execute_result"
    }
   ],
   "source": [
    "feat_s_ord = pd.Series.sort_values(feat_s, ascending=False)\n",
    "top_features = feat_s_ord.index[:100]\n",
    "top_features"
   ]
  },
  {
   "cell_type": "code",
   "execution_count": 267,
   "id": "ea2bf0fc",
   "metadata": {},
   "outputs": [],
   "source": [
    "dfsd = pd.DataFrame()\n",
    "dfsd = features_df\n",
    "\n",
    "for i in np.arange(0,360):\n",
    "    if i not in top_features:\n",
    "        dfsd = dfsd.drop([i], axis=1)"
   ]
  },
  {
   "cell_type": "code",
   "execution_count": 268,
   "id": "c9c5922b",
   "metadata": {},
   "outputs": [],
   "source": [
    "dfsd_e = pd.DataFrame()\n",
    "dfsd_e = features_df_e\n",
    "\n",
    "for i in np.arange(0,360):\n",
    "    if i not in top_features:\n",
    "        dfsd_e = dfsd_e.drop([i], axis=1)"
   ]
  },
  {
   "cell_type": "code",
   "execution_count": 269,
   "id": "0410f337",
   "metadata": {},
   "outputs": [],
   "source": [
    "new_features=list(list())\n",
    "for i in np.arange(0,9596):\n",
    "    new_features.append(dfsd.loc[i])\n",
    "    \n",
    "new_features_e=list(list())\n",
    "for i in np.arange(0,3201):\n",
    "    new_features_e.append(dfsd_e.loc[i])"
   ]
  },
  {
   "cell_type": "markdown",
   "id": "27d4679a",
   "metadata": {},
   "source": [
    "<h2>Random Forest with features selection</h2>"
   ]
  },
  {
   "cell_type": "code",
   "execution_count": 270,
   "id": "b08bc900",
   "metadata": {},
   "outputs": [],
   "source": [
    "X_train, X_test, y_train, y_test = train_test_split(\n",
    "    new_features, \n",
    "    y_dev, \n",
    "    test_size=0.2, \n",
    "    random_state=42,\n",
    "    shuffle=True\n",
    ")"
   ]
  },
  {
   "cell_type": "code",
   "execution_count": 271,
   "id": "24fb7686",
   "metadata": {},
   "outputs": [
    {
     "name": "stdout",
     "output_type": "stream",
     "text": [
      "              precision    recall  f1-score   support\n",
      "\n",
      "           1       0.61      0.43      0.51       290\n",
      "           2       0.55      0.73      0.63       270\n",
      "           3       0.72      0.42      0.53       303\n",
      "           4       0.59      0.78      0.67       324\n",
      "           5       0.62      0.58      0.60       337\n",
      "           6       0.71      0.79      0.75       310\n",
      "           7       0.87      0.87      0.87        86\n",
      "\n",
      "    accuracy                           0.64      1920\n",
      "   macro avg       0.67      0.66      0.65      1920\n",
      "weighted avg       0.64      0.64      0.63      1920\n",
      "\n",
      "Test Set F-score score = 65.2%\n"
     ]
    }
   ],
   "source": [
    "rf = RandomForestClassifier(\n",
    "    max_depth=200, \n",
    "    n_estimators=2000, \n",
    "    random_state=42, \n",
    "    criterion='entropy',\n",
    "    max_features='sqrt',    \n",
    "    n_jobs=-1\n",
    ")\n",
    "\n",
    "rf.fit(X_train, y_train)\n",
    "y_pred = rf.predict(X_test)\n",
    "\n",
    "print(classification_report(y_test, y_pred))\n",
    "print(f'Test Set F-score score = {100*f1_score(y_test, y_pred, average=\"macro\"):.3}%')"
   ]
  },
  {
   "cell_type": "markdown",
   "id": "3ce5bcae",
   "metadata": {},
   "source": [
    "# Results"
   ]
  },
  {
   "cell_type": "code",
   "execution_count": 295,
   "id": "5bb52e8b",
   "metadata": {},
   "outputs": [],
   "source": [
    "clf.fit(features_scaled, y_dev)\n",
    "y_final = clf.predict(features_scaled_e)"
   ]
  },
  {
   "cell_type": "code",
   "execution_count": 296,
   "id": "86f42a8c",
   "metadata": {},
   "outputs": [],
   "source": [
    "sentiments_dict_2 = {\n",
    "    \"1\": \"Disgusted\",\n",
    "    \"2\": \"Neutral\",\n",
    "    \"3\": \"Fearful\",\n",
    "    \"4\": \"Sad\",\n",
    "    \"5\": \"Happy\",\n",
    "    \"6\": \"Angry\",\n",
    "    \"7\": \"Suprised\"\n",
    "}\n",
    "\n",
    "y_final_sent = [sentiments_dict_2[y] for y in y_final]\n",
    "\n",
    "ids=np.arange(9597,12798)\n",
    "ids_wav = [str(i)+'.wav' for i in ids]"
   ]
  },
  {
   "cell_type": "code",
   "execution_count": 298,
   "id": "089c5ae0",
   "metadata": {},
   "outputs": [],
   "source": [
    "pd.DataFrame(dict(Id = ids_wav,Predicted = y_final_sent)).to_csv(\"submission.csv\", sep=\",\", index=False)"
   ]
  }
 ],
 "metadata": {
  "kernelspec": {
   "display_name": "Python 3 (ipykernel)",
   "language": "python",
   "name": "python3"
  },
  "language_info": {
   "codemirror_mode": {
    "name": "ipython",
    "version": 3
   },
   "file_extension": ".py",
   "mimetype": "text/x-python",
   "name": "python",
   "nbconvert_exporter": "python",
   "pygments_lexer": "ipython3",
   "version": "3.9.7"
  }
 },
 "nbformat": 4,
 "nbformat_minor": 5
}
